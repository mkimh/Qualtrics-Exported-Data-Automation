{
 "cells": [
  {
   "cell_type": "markdown",
   "id": "9bbee1fa",
   "metadata": {},
   "source": [
    "### Update information: Input required\n",
    "#### Note: quotation marks should be included. Change values inside of the quotes."
   ]
  },
  {
   "cell_type": "code",
   "execution_count": 1,
   "id": "ee3cbd77",
   "metadata": {},
   "outputs": [],
   "source": [
    "AY = '2022-2023'\n",
    "CO = 'c/o 2023'\n",
    "CS = 'Pediatrics EM'"
   ]
  },
  {
   "cell_type": "markdown",
   "id": "278b9aaf",
   "metadata": {
    "tags": []
   },
   "source": [
    "That's it. Now you can sit back and run the code! \n",
    "### Course Data Automation"
   ]
  },
  {
   "cell_type": "code",
   "execution_count": 2,
   "id": "4e8105da",
   "metadata": {},
   "outputs": [
    {
     "name": "stdout",
     "output_type": "stream",
     "text": [
      "All tasks completed in 0.73 s.\n"
     ]
    }
   ],
   "source": [
    "# initiate\n",
    "import numpy as np\n",
    "import pandas as pd\n",
    "from datetime import datetime\n",
    "import datetime\n",
    "import time\n",
    "import warnings\n",
    "warnings.simplefilter(\"ignore\")\n",
    "\n",
    "# start timer\n",
    "tic = time.time()\n",
    "\n",
    "# import dataset\n",
    "read = pd.read_excel('input.xlsx', engine='openpyxl')\n",
    "\n",
    "#filter in applicable data only: \"0/IP Address\" rows only\n",
    "readfile = read[(read.Status.isin(['Response Type', 0]))]\n",
    "\n",
    "# subset site survey questions\n",
    "q_subset = readfile.loc[:,readfile.columns.str.contains('.*Q.*')]\n",
    "\n",
    "# create a list of columns\n",
    "q_cols_subset = list(q_subset.columns)\n",
    "\n",
    "# calculate the number of one set of questions\n",
    "set_n = sum(1 for i in q_cols_subset if i[0:5] == (q_cols_subset[0])[0:5])\n",
    "\n",
    "# create a placeholder dataframe\n",
    "df0 = pd.DataFrame(columns = ['AcademicYear', 'Class', 'Course' ,'Type'])\n",
    "#df0\n",
    "\n",
    "# create a dataframe for stats\n",
    "def stat_df(subset_cols_df, subset_df):\n",
    "    \n",
    "    stat_df1 = pd.DataFrame([])\n",
    "    qn=0\n",
    "    for j in subset_cols_df:\n",
    "\n",
    "        c = subset_df[j][1:,].value_counts().rename_axis('unique_values').reset_index(name='counts')\n",
    "        c['pct'] = c.counts / c.counts.sum()\n",
    "\n",
    "\n",
    "\n",
    "        if (qn == set_n):\n",
    "            qn = 1\n",
    "\n",
    "        else:\n",
    "            qn +=1\n",
    "\n",
    "        c['QN'] = qn\n",
    "\n",
    "        cc = {}\n",
    "        for i in range(1,6):\n",
    "            if i in list(c.unique_values):\n",
    "                cn = c[c.unique_values == i]['counts']\n",
    "                pn = c[c.unique_values == i]['pct']\n",
    "                cc.update(                {\n",
    "                        'C'+str(i):int(cn), 'R'+str(i):float(pn)\n",
    "                    }            )\n",
    "\n",
    "            else:\n",
    "                cc.update(                {\n",
    "                        'C'+str(i):0, 'R'+str(i):0\n",
    "                    }              )\n",
    "\n",
    "\n",
    "\n",
    "        dd = pd.DataFrame([cc])\n",
    "        dd['N'] = dd.C1 + dd.C2 + dd.C3 + dd.C4 + dd.C5\n",
    "        dd['A_SA'] = dd.R4 + dd.R5\n",
    "        dd['Sumproduct'] = dd.C1 * 1 + dd.C2 * 2 + dd.C3 * 3 + dd.C4 * 4 + dd.C5 * 5\n",
    "        dd['Mean'] = (dd.C1 * 1 + dd.C2 * 2 + dd.C3 * 3 + dd.C4 * 4 + dd.C5 * 5)/dd.N\n",
    "        dd['QN']= c['QN']\n",
    "        stat_df1 = pd.concat([stat_df1, dd], axis=0, ignore_index=True)\n",
    "        stat_df2 = stat_df1[['QN','Sumproduct',\n",
    "                            'R1', 'R2', 'R3', 'R4', 'R5', 'A_SA', 'Mean', 'N', 'C1', 'C2', 'C3', 'C4', 'C5']]\n",
    "    return stat_df2\n",
    "\n",
    "df1 = stat_df(q_cols_subset, q_subset)\n",
    "#df1\n",
    "\n",
    "# create a dataframe for question by extracting text\n",
    "sequence2=0\n",
    "q0 = []\n",
    "for l in q_cols_subset:\n",
    "    q_text_q = str(q_subset[l][0])  \n",
    "    q0.append(q_text_q)\n",
    "\n",
    "\n",
    "df_q1 = pd.DataFrame(q0)\n",
    "df_q1.columns = ['Question']\n",
    "#df_q1\n",
    "\n",
    "# concat dataframes\n",
    "df_s1 = pd.concat([df_q1, df1], axis=1)\n",
    "df4 = pd.concat([df0, df_s1], axis=1)\n",
    "#df4\n",
    "\n",
    "# delete unapplicable rows/qualitative questions\n",
    "df5 = df4[df4['N'] > 0]\n",
    "\n",
    "# populate columns for AY, Class, Block\n",
    "df5 = df5.assign(AcademicYear = AY)\n",
    "df5 = df5.assign(Class = CO)\n",
    "df5 = df5.assign(Course = CS)\n",
    "df5 = df5[['AcademicYear', 'Class', 'Course', 'Question',\n",
    "          'R1', 'R2', 'R3', 'R4', 'R5', 'A_SA', 'Mean', 'N', 'C1', 'C2', 'C3', 'C4', 'C5']]\n",
    "#df5\n",
    "\n",
    "# export\n",
    "df5.to_excel('output_' + str(datetime.datetime.now().strftime(\"%Y_%m_%d_%H_%M_%S\")) + '.xlsx', index = False)\n",
    "\n",
    "# end timer             \n",
    "toc = time.time() - tic\n",
    "print('All tasks completed in %.2f s.' % (toc))"
   ]
  }
 ],
 "metadata": {
  "kernelspec": {
   "display_name": "Python 3 (ipykernel)",
   "language": "python",
   "name": "python3"
  },
  "language_info": {
   "codemirror_mode": {
    "name": "ipython",
    "version": 3
   },
   "file_extension": ".py",
   "mimetype": "text/x-python",
   "name": "python",
   "nbconvert_exporter": "python",
   "pygments_lexer": "ipython3",
   "version": "3.9.12"
  }
 },
 "nbformat": 4,
 "nbformat_minor": 5
}
