{
 "cells": [
  {
   "cell_type": "markdown",
   "id": "642ae16f",
   "metadata": {},
   "source": [
    "### Update information: Input required\n",
    "#### Note: quotation marks should be included. Change values inside of the quotes."
   ]
  },
  {
   "cell_type": "code",
   "execution_count": 1,
   "id": "f5dbcbc2",
   "metadata": {},
   "outputs": [],
   "source": [
    "AY = 'AY 2022-2023'\n",
    "CO = 'Brain and Behavior'"
   ]
  },
  {
   "cell_type": "markdown",
   "id": "afdd3577",
   "metadata": {},
   "source": [
    "#### Required files: input.xlsx, faculty.xlsx\n",
    "### Faculty (Didactic) Data Automation"
   ]
  },
  {
   "cell_type": "code",
   "execution_count": 2,
   "id": "54b2b163",
   "metadata": {},
   "outputs": [],
   "source": [
    "# initiate\n",
    "import numpy as np\n",
    "import pandas as pd\n",
    "from datetime import datetime\n",
    "import datetime\n",
    "import time\n",
    "import warnings\n",
    "warnings.simplefilter(\"ignore\")\n",
    "\n",
    "# start timer\n",
    "tic = time.time()\n",
    "\n",
    "# import dataset\n",
    "read = pd.read_excel('input.xlsx', engine='openpyxl')\n",
    "fac_df = pd.read_excel('faculty.xlsx', engine='openpyxl')\n",
    "\n",
    "#filter in applicable data only: \"0/IP Address\" rows only\n",
    "readfile = read[(read.Status.isin(['Response Type', 0]))]\n",
    "\n",
    "# subset survey questions\n",
    "q_subset = readfile.loc[:,readfile.columns.str.contains('.*Q2.11')]\n",
    "\n",
    "# create a list of columns\n",
    "q_cols_subset = list(q_subset.columns)"
   ]
  },
  {
   "cell_type": "code",
   "execution_count": 3,
   "id": "94d1ab04",
   "metadata": {},
   "outputs": [
    {
     "name": "stdout",
     "output_type": "stream",
     "text": [
      "All tasks completed in 1.63 s.\n"
     ]
    }
   ],
   "source": [
    "df1 = pd.DataFrame([])\n",
    "df2 = pd.DataFrame([])\n",
    "df1['Faculty_FirstName'] =''\n",
    "df1['Faculty_LastName']= ''\n",
    "\n",
    "\n",
    "for k in q_cols_subset:\n",
    "      \n",
    "    q_text_c = pd.DataFrame(q_subset[k][1:,].dropna())\n",
    "    q_text_c.columns = ['Comments']\n",
    "    \n",
    "    df_fac1 = pd.concat([df1, q_text_c], axis=1)\n",
    "    \n",
    "    q_text_f = str(q_subset[k][0])\n",
    "        \n",
    "    sub1 = \"Dr.\"\n",
    "    sub2 = \"</\"\n",
    "\n",
    "    # getting index of substrings\n",
    "    idx1 = q_text_f.index(sub1)\n",
    "    idx2 = q_text_f.index(sub2)\n",
    "\n",
    "    res = ''\n",
    "    # getting elements in between\n",
    "    for idx in range(idx1 + len(sub1) + 1, idx2):\n",
    "        res = res + q_text_f[idx]\n",
    "\n",
    "    # result\n",
    "    Faculty_FullName = res.split()\n",
    "    df_fac1['Faculty_FirstName'] =str(Faculty_FullName[0])\n",
    "    df_fac1['Faculty_LastName']= str(Faculty_FullName[-1])\n",
    "    \n",
    "    df2 = pd.concat([df2, df_fac1], axis=0)\n",
    "\n",
    "# merge faculty db with the faculty name column\n",
    "df2['Faculty'] = df2.Faculty_LastName +', ' + df2.Faculty_FirstName\n",
    "df3 = pd.merge(df2, fac_df, left_on='Faculty', right_on='Name', how='left').drop('Name', axis=1)\n",
    "\n",
    "# populate columns for AY, Class, Block\n",
    "df3['AcademicYear'] = AY\n",
    "df3['Course'] = CO\n",
    "df3 = df3[['NetID', 'GWID', 'Department', 'AcademicYear', 'Course',\n",
    "           'Faculty', 'Faculty_FirstName', 'Faculty_LastName', 'Comments']]\n",
    "\n",
    "# export\n",
    "df3.to_excel('output_' + str(datetime.datetime.now().strftime(\"%Y_%m_%d_%H_%M_%S\")) + '.xlsx', index = False)\n",
    "\n",
    "# end timer             \n",
    "toc = time.time() - tic\n",
    "print('All tasks completed in %.2f s.' % (toc))"
   ]
  }
 ],
 "metadata": {
  "kernelspec": {
   "display_name": "Python 3 (ipykernel)",
   "language": "python",
   "name": "python3"
  },
  "language_info": {
   "codemirror_mode": {
    "name": "ipython",
    "version": 3
   },
   "file_extension": ".py",
   "mimetype": "text/x-python",
   "name": "python",
   "nbconvert_exporter": "python",
   "pygments_lexer": "ipython3",
   "version": "3.9.12"
  }
 },
 "nbformat": 4,
 "nbformat_minor": 5
}
