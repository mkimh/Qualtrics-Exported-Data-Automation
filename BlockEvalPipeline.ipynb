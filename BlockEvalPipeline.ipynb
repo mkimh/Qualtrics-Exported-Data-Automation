{
 "cells": [
  {
   "cell_type": "markdown",
   "id": "9bbee1fa",
   "metadata": {},
   "source": [
    "### Update information: Input required\n",
    "#### Note: quotation marks should be included. Change values inside of the quotes."
   ]
  },
  {
   "cell_type": "code",
   "execution_count": 1,
   "id": "ee3cbd77",
   "metadata": {},
   "outputs": [],
   "source": [
    "AY = '2022-2023'\n",
    "CO = 'c/o 2025'\n",
    "Block = 'Brain and Behavior'"
   ]
  },
  {
   "cell_type": "markdown",
   "id": "278b9aaf",
   "metadata": {
    "tags": []
   },
   "source": [
    "That's it. Now you can sit back and run the code! \n",
    "\n",
    "Note: There are exceptional questions that need modification. Please refer to the SOP.\n",
    "\n",
    "### Block Data Automation"
   ]
  },
  {
   "cell_type": "code",
   "execution_count": 2,
   "id": "4e8105da",
   "metadata": {},
   "outputs": [
    {
     "name": "stdout",
     "output_type": "stream",
     "text": [
      "All tasks completed in 1.06 s.\n"
     ]
    }
   ],
   "source": [
    "# initiate\n",
    "import numpy as np\n",
    "import pandas as pd\n",
    "import re\n",
    "from datetime import datetime\n",
    "import datetime\n",
    "import time\n",
    "import warnings\n",
    "warnings.simplefilter(\"ignore\")\n",
    "\n",
    "# start timer\n",
    "tic = time.time()\n",
    "\n",
    "# import dataset\n",
    "read = pd.read_excel('input.xlsx', engine='openpyxl')\n",
    "\n",
    "#filter in applicable data only: \"0/IP Address\" rows only\n",
    "readfile = read[(read.Status.isin(['Response Type', 0]))]\n",
    "\n",
    "# subset all the survey questions\n",
    "q_subset = readfile.loc[:,readfile.columns.str.contains('Q.*')]\n",
    "\n",
    "# create a list of columns\n",
    "q_cols_subset = list(q_subset.columns)\n",
    "\n",
    "# create a dataframe for stats\n",
    "df1 = pd.DataFrame([])\n",
    "\n",
    "for j in q_cols_subset:\n",
    "\n",
    "    c = q_subset[j][1:,].value_counts().rename_axis('unique_values').reset_index(name='counts')\n",
    "\n",
    "    cc = {}\n",
    "    \n",
    "    for i in range(1,6):\n",
    "        if i in list(c.unique_values):\n",
    "            cn = c[c.unique_values == i]['counts']\n",
    "\n",
    "            cc.update(                {\n",
    "                    'C'+str(i):int(cn)\n",
    "                }            )\n",
    "            \n",
    "        #filter out invalid values (not a number between 1-5: Text or other coded value for N/A)\n",
    "        else:\n",
    "            cc.update(                {\n",
    "                    'C'+str(i):0\n",
    "                }              )\n",
    "\n",
    "\n",
    "    dd = pd.DataFrame([cc])\n",
    "    dd['N'] = dd.C1 + dd.C2 + dd.C3 + dd.C4 + dd.C5\n",
    "    dd['Sumproduct'] = dd.C1 * 1 + dd.C2 * 2 + dd.C3 * 3 + dd.C4 * 4 + dd.C5 * 5\n",
    "    dd['Mean'] = (dd.C1 * 1 + dd.C2 * 2 + dd.C3 * 3 + dd.C4 * 4 + dd.C5 * 5)/dd.N\n",
    "    df1 = pd.concat([df1, dd], axis=0, ignore_index=True)\n",
    "    df1 = df1[['Mean', 'N','Sumproduct']]\n",
    "#df1\n",
    "\n",
    "# create a dataframe for question by extracting text\n",
    "sequence2=0\n",
    "q0 = []\n",
    "for l in q_cols_subset:\n",
    "    q_text_q = str(q_subset[l][0])  \n",
    "    q0.append(q_text_q)\n",
    "\n",
    "\n",
    "df_q1 = pd.DataFrame(q0)\n",
    "df_q1.columns = ['Question']\n",
    "#df_q1\n",
    "\n",
    "# concat dataframes\n",
    "df4 = pd.concat([df_q1, df1[['Mean','N']]], axis=1)\n",
    "#df4\n",
    "\n",
    "# delete unapplicable rows/qualitative questions\n",
    "df5 = df4[df4['N'] > 0]\n",
    "\n",
    "# populate columns for AY, Class, Block\n",
    "df5['Year'] = AY\n",
    "df5['Class'] = CO\n",
    "df5['Block'] = Block\n",
    "df5['Response'] = 'Mean'\n",
    "df5['Value'] = ''\n",
    "df5['Section'] = ''\n",
    "df5 = df5[['Year', 'Block', 'Section', 'Question', 'Response', 'Value', 'Mean', 'N', 'Class']]\n",
    "#df5\n",
    "\n",
    "# export\n",
    "df5.to_excel('output_' + str(datetime.datetime.now().strftime(\"%Y_%m_%d_%H_%M_%S\")) + '.xlsx', index = False)\n",
    "\n",
    "# end timer             \n",
    "toc = time.time() - tic\n",
    "print('All tasks completed in %.2f s.' % (toc))"
   ]
  }
 ],
 "metadata": {
  "kernelspec": {
   "display_name": "Python 3 (ipykernel)",
   "language": "python",
   "name": "python3"
  },
  "language_info": {
   "codemirror_mode": {
    "name": "ipython",
    "version": 3
   },
   "file_extension": ".py",
   "mimetype": "text/x-python",
   "name": "python",
   "nbconvert_exporter": "python",
   "pygments_lexer": "ipython3",
   "version": "3.9.12"
  }
 },
 "nbformat": 4,
 "nbformat_minor": 5
}
